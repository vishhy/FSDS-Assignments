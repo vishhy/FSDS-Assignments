{
 "cells": [
  {
   "cell_type": "markdown",
   "metadata": {},
   "source": [
    "### Assignment 1"
   ]
  },
  {
   "cell_type": "raw",
   "metadata": {},
   "source": [
    "1. * : Expression\n",
    "   'hello': Value\n",
    "   -87.8 : Value\n",
    "   - : Expression\n",
    "   / : Expression\n",
    "   + : Expression\n",
    "   6 : Value"
   ]
  },
  {
   "cell_type": "raw",
   "metadata": {},
   "source": [
    "2. String: String is a type of one of the data types in python. String can store a single character, a word, a sentence or a whole paragraph. A string can be empty also.\n",
    "\n",
    "Variable: Variable is a defined alias for any particular value.\n",
    "For example: a = 54 is variable with a as the variable and 54 being the value the variable is holding"
   ]
  },
  {
   "cell_type": "raw",
   "metadata": {},
   "source": [
    "3. Three data types in python are:\n",
    "    a) Integer: This type gives intgers ranging from -infinity to infinity\n",
    "    b) Bool: This type provides two values only True and False\n",
    "    c) List: List is a collection of data. The collection can be of homogenous or non-homogenous data. [1,2,3,4] or [4.5, 6, -2, 'a', 92.4]"
   ]
  },
  {
   "cell_type": "raw",
   "metadata": {},
   "source": [
    "4. An expression which evaluates to something or whose value we can print.\n",
    "For example: 'a', 4, 5.23, x = x+y\n",
    "Expressions evaluates to something and give us an answer in return"
   ]
  },
  {
   "cell_type": "raw",
   "metadata": {},
   "source": [
    "5. Expression: It is something which evaluates to something or whose value we can print. For ex: 'a', 4, 5.23\n",
    "\n",
    "Statement: Statement is somethng which doesn't evaluates to somethng or doesn't returns anything and whose value we can't print.\n",
    "For ex: a = 10"
   ]
  },
  {
   "cell_type": "code",
   "execution_count": 2,
   "metadata": {},
   "outputs": [
    {
     "data": {
      "text/plain": [
       "23"
      ]
     },
     "execution_count": 2,
     "metadata": {},
     "output_type": "execute_result"
    }
   ],
   "source": [
    "# 6.\n",
    "bacon = 22\n",
    "bacon +1"
   ]
  },
  {
   "cell_type": "code",
   "execution_count": 4,
   "metadata": {},
   "outputs": [
    {
     "data": {
      "text/plain": [
       "'spamspamspam'"
      ]
     },
     "execution_count": 4,
     "metadata": {},
     "output_type": "execute_result"
    }
   ],
   "source": [
    "# 7.\n",
    "'spam' + 'spamspam'"
   ]
  },
  {
   "cell_type": "code",
   "execution_count": 5,
   "metadata": {},
   "outputs": [
    {
     "data": {
      "text/plain": [
       "'spamspamspam'"
      ]
     },
     "execution_count": 5,
     "metadata": {},
     "output_type": "execute_result"
    }
   ],
   "source": [
    "'spam'*3"
   ]
  },
  {
   "cell_type": "raw",
   "metadata": {},
   "source": [
    "8. Because variable name can not be a numeric value"
   ]
  },
  {
   "cell_type": "code",
   "execution_count": 11,
   "metadata": {},
   "outputs": [
    {
     "data": {
      "text/plain": [
       "34"
      ]
     },
     "execution_count": 11,
     "metadata": {},
     "output_type": "execute_result"
    }
   ],
   "source": [
    "# 9.\n",
    "a = '34'\n",
    "int(a)"
   ]
  },
  {
   "cell_type": "code",
   "execution_count": 12,
   "metadata": {},
   "outputs": [
    {
     "data": {
      "text/plain": [
       "34.0"
      ]
     },
     "execution_count": 12,
     "metadata": {},
     "output_type": "execute_result"
    }
   ],
   "source": [
    "a = 34\n",
    "float(a)"
   ]
  },
  {
   "cell_type": "code",
   "execution_count": 13,
   "metadata": {},
   "outputs": [
    {
     "data": {
      "text/plain": [
       "'34'"
      ]
     },
     "execution_count": 13,
     "metadata": {},
     "output_type": "execute_result"
    }
   ],
   "source": [
    "a = 34\n",
    "str(34)"
   ]
  },
  {
   "cell_type": "code",
   "execution_count": 14,
   "metadata": {},
   "outputs": [],
   "source": [
    "# 10. \n",
    "# 'I have eaten' + 99 + 'burritos.' raises an error because 99 is an integer\n",
    "# and rest two are strings\n",
    "# Python can't concatenate expressions of different data types.\n",
    "# We've to type cast 99 to string for concatenation."
   ]
  },
  {
   "cell_type": "code",
   "execution_count": 15,
   "metadata": {},
   "outputs": [
    {
     "data": {
      "text/plain": [
       "'99'"
      ]
     },
     "execution_count": 15,
     "metadata": {},
     "output_type": "execute_result"
    }
   ],
   "source": [
    "str(99)"
   ]
  },
  {
   "cell_type": "code",
   "execution_count": 17,
   "metadata": {},
   "outputs": [
    {
     "data": {
      "text/plain": [
       "'I have eaten 99 burritos.'"
      ]
     },
     "execution_count": 17,
     "metadata": {},
     "output_type": "execute_result"
    }
   ],
   "source": [
    "'I have eaten ' + '99' + ' burritos.'"
   ]
  },
  {
   "cell_type": "code",
   "execution_count": null,
   "metadata": {},
   "outputs": [],
   "source": []
  }
 ],
 "metadata": {
  "kernelspec": {
   "display_name": "Python 3",
   "language": "python",
   "name": "python3"
  },
  "language_info": {
   "codemirror_mode": {
    "name": "ipython",
    "version": 3
   },
   "file_extension": ".py",
   "mimetype": "text/x-python",
   "name": "python",
   "nbconvert_exporter": "python",
   "pygments_lexer": "ipython3",
   "version": "3.8.5"
  }
 },
 "nbformat": 4,
 "nbformat_minor": 4
}
