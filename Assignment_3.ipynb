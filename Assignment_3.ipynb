{
 "cells": [
  {
   "cell_type": "markdown",
   "metadata": {},
   "source": [
    "### Assignment 3"
   ]
  },
  {
   "cell_type": "markdown",
   "metadata": {},
   "source": [
    "Q1. \n",
    "There is a principle in programming known as DRY, which meand Don't Repeat Yourself.\n",
    "Functions help us in achieving this.\n",
    "We have to create a function once and it can perform the repititive task again and again.\n",
    "This saves a lot of time and increases the readbility of code"
   ]
  },
  {
   "cell_type": "markdown",
   "metadata": {},
   "source": [
    "Q2. A code in a function runs when the function is called"
   ]
  },
  {
   "cell_type": "markdown",
   "metadata": {},
   "source": [
    "Q3. def statement creates a function"
   ]
  },
  {
   "cell_type": "markdown",
   "metadata": {},
   "source": [
    "Q4. A function is a name given to a special block of code that we want to execute again and again without a need to code everytime.\n",
    "\n",
    "A function call is a request that we pass to the function to execute that special block of code."
   ]
  },
  {
   "cell_type": "markdown",
   "metadata": {},
   "source": [
    "Q5. In python, there is only 1 global scope.\n",
    "\n",
    "Local scopes can be of any number that the user may want to define"
   ]
  },
  {
   "cell_type": "markdown",
   "metadata": {},
   "source": [
    "Q6. When the function call returns the memory assigned to the variables in local scopes is released."
   ]
  },
  {
   "cell_type": "markdown",
   "metadata": {},
   "source": [
    "Q7. In the definition of a function there is a keyowrd return, that is used by the programmer to return a specific value or an expression back to the prompt.\n",
    "\n",
    "For example, the print() func returns None.\n",
    "\n",
    "A function can have an expression as a return value.\n",
    "\n",
    "For ex: def test():\n",
    "            a = 1\n",
    "            b = 10\n",
    "            return a+b\n",
    "       \n",
    "This function returns the sum of a & b"
   ]
  },
  {
   "cell_type": "markdown",
   "metadata": {},
   "source": [
    "Q8. If a function does not have a return value, by default python return a value of none on call to that function."
   ]
  },
  {
   "cell_type": "markdown",
   "metadata": {},
   "source": [
    "Q9. To make a function variable refer to the global variable, we can simply use the keyword global while declaration of the variable in the function definition"
   ]
  },
  {
   "cell_type": "markdown",
   "metadata": {},
   "source": [
    "Q10. None has no data type since it is itself a data type. None is an object of class NoneType in python"
   ]
  },
  {
   "cell_type": "markdown",
   "metadata": {},
   "source": [
    "Q11. import areallyourpetsnamederic will import this module fully if it's in our current working directory. Else it won't"
   ]
  },
  {
   "cell_type": "markdown",
   "metadata": {},
   "source": [
    "Q12. import spam\n",
    "\n",
    "spam.bacon()"
   ]
  },
  {
   "cell_type": "markdown",
   "metadata": {},
   "source": [
    "Q13. We can save a program from crashing by proper handling of the errors and exceptions"
   ]
  },
  {
   "cell_type": "markdown",
   "metadata": {},
   "source": [
    "Q14. Try: Whenever we are doubtful about a block of code that it will crash, we put it under the try clause.\n",
    "    \n",
    "    Except: Except clause is mandatory after try clause. Except tells the program what to do when the program encounters an error or exception"
   ]
  },
  {
   "cell_type": "code",
   "execution_count": null,
   "metadata": {},
   "outputs": [],
   "source": []
  }
 ],
 "metadata": {
  "kernelspec": {
   "display_name": "Python 3",
   "language": "python",
   "name": "python3"
  },
  "language_info": {
   "codemirror_mode": {
    "name": "ipython",
    "version": 3
   },
   "file_extension": ".py",
   "mimetype": "text/x-python",
   "name": "python",
   "nbconvert_exporter": "python",
   "pygments_lexer": "ipython3",
   "version": "3.8.5"
  }
 },
 "nbformat": 4,
 "nbformat_minor": 4
}
