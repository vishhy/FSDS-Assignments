{
 "cells": [
  {
   "cell_type": "markdown",
   "metadata": {},
   "source": [
    "Q1. The relative path is the path to some file with respect to your current working directory (PWD).\n",
    "- For example: if Absolute path to a file called vish.txt is: - C:/users/admin/docs/vish.txt If my PWD is C:/users/admin/ , then the relative path to iNeuron.txt would be: docs/vish.txt\n",
    "> **Note: PWD + relative path = absolute path**"
   ]
  },
  {
   "cell_type": "markdown",
   "metadata": {},
   "source": [
    "Q2. I'm using Windows Operating System and in Windows Operating System absolute path starts with **C:**"
   ]
  },
  {
   "cell_type": "markdown",
   "metadata": {},
   "source": [
    "Q3. `os.getcwd()`: gives the location of the current working directory.\n",
    "`os.chdir()`: changes the current working directory to the specified directory"
   ]
  },
  {
   "cell_type": "markdown",
   "metadata": {},
   "source": [
    "Q4. **`.`** Represents the Current Directory Whereas **`..`** Represents the Parent Directory of the Current Directory"
   ]
  },
  {
   "cell_type": "markdown",
   "metadata": {},
   "source": [
    "Q5. For C:\\bacon\\eggs\\spam.txt\n",
    "- The Directory name is C:\\\\bacon\\\\eggs\n",
    "- The Base name is spam.txt"
   ]
  },
  {
   "cell_type": "markdown",
   "metadata": {},
   "source": [
    "Q6. The three modes in the open() are: \n",
    "- r: Read Mode. Default Mode\n",
    "- w: Write Mode. Overwriting any existing content in a file\n",
    "- a: Append Mode. Insert the content at the end of the file"
   ]
  },
  {
   "cell_type": "markdown",
   "metadata": {},
   "source": [
    "Q7. Using this mode, we can overwrite any existing content in a file. If the given file does not exist then a new one will be created."
   ]
  },
  {
   "cell_type": "markdown",
   "metadata": {},
   "source": [
    "Q8.read() will read the whole file at once and then print out the first characters that take up as many bytes as we specify in the parenthesis\n",
    "\n",
    "whereas the readline() that will read and print out only the first characters that take up as many bytes as we specify in the parenthesis."
   ]
  },
  {
   "cell_type": "markdown",
   "metadata": {},
   "source": [
    "Q9. Dicitionary. dict type"
   ]
  },
  {
   "cell_type": "code",
   "execution_count": null,
   "metadata": {},
   "outputs": [],
   "source": []
  }
 ],
 "metadata": {
  "kernelspec": {
   "display_name": "Python 3",
   "language": "python",
   "name": "python3"
  },
  "language_info": {
   "codemirror_mode": {
    "name": "ipython",
    "version": 3
   },
   "file_extension": ".py",
   "mimetype": "text/x-python",
   "name": "python",
   "nbconvert_exporter": "python",
   "pygments_lexer": "ipython3",
   "version": "3.8.5"
  }
 },
 "nbformat": 4,
 "nbformat_minor": 4
}
